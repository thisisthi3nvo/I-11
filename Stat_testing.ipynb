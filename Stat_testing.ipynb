{
 "cells": [
  {
   "cell_type": "code",
   "execution_count": null,
   "metadata": {},
   "outputs": [],
   "source": [
    "import pandas as pd\n",
    "import matplotlib.pyplot as plt\n",
    "\n",
    "# Load the CSV file from your local directory\n",
    "df = pd.read_csv('/Users/yi/Downloads/owid-covid-latest.csv' )\n",
    "\n",
    "# Display the first few rows to verify loading\n",
    "print(df.head())\n"
   ]
  },
  {
   "cell_type": "code",
   "execution_count": null,
   "metadata": {},
   "outputs": [],
   "source": [
    "# Calculate mean, median, and standard deviation\n",
    "mean_deaths = df['total_deaths_per_million'].mean()\n",
    "median_deaths = df['total_deaths_per_million'].median()\n",
    "std_deaths = df['total_deaths_per_million'].std()\n",
    "\n",
    "# Print the summary statistics\n",
    "print(f\"Mean Total Deaths per Million: {mean_deaths}\")\n",
    "print(f\"Median Total Deaths per Million: {median_deaths}\")\n",
    "print(f\"Standard Deviation of Total Deaths per Million: {std_deaths}\")"
   ]
  },
  {
   "cell_type": "code",
   "execution_count": null,
   "metadata": {},
   "outputs": [],
   "source": [
    "# Create a histogram for total deaths per million\n",
    "plt.figure(figsize=(10, 6))\n",
    "plt.hist(df['total_deaths_per_million'].dropna(), bins=30, edgecolor='black')\n",
    "plt.title('Distribution of Total Deaths per Million')\n",
    "plt.xlabel('Total Deaths per Million')\n",
    "plt.ylabel('Number of Countries')\n",
    "plt.grid(True)\n",
    "plt.show()\n"
   ]
  },
  {
   "cell_type": "code",
   "execution_count": null,
   "metadata": {},
   "outputs": [],
   "source": [
    "# Create a boxplot\n",
    "plt.figure(figsize=(8, 5))\n",
    "plt.boxplot(df['total_deaths_per_million'].dropna())\n",
    "plt.title('Boxplot of Total Deaths per Million')\n",
    "plt.ylabel('Total Deaths per Million')\n",
    "plt.show()"
   ]
  }
 ],
 "metadata": {
  "language_info": {
   "name": "python"
  }
 },
 "nbformat": 4,
 "nbformat_minor": 2
}
